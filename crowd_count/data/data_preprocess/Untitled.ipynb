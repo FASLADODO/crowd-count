{
 "cells": [
  {
   "cell_type": "code",
   "execution_count": null,
   "metadata": {},
   "outputs": [],
   "source": [
    "import os\n",
    "import glob\n",
    "import skimage.io\n",
    "from scipy import io\n",
    "import numpy as np\n",
    "from gaussian_filter import gaussian_filter_density\n",
    "import h5py\n",
    "\n",
    "\n",
    "def shtu_mask(root):\n",
    "    # now generate the ShanghaiA's ground truth\n",
    "    part_a_train = os.path.join(root, 'part_A_final/train_data', 'images')\n",
    "    part_a_test = os.path.join(root, 'part_A_final/test_data', 'images')\n",
    "    part_b_train = os.path.join(root, 'part_B_final/train_data', 'images')\n",
    "    part_b_test = os.path.join(root, 'part_B_final/test_data', 'images')\n",
    "    path_sets = [part_a_train, part_a_test, part_b_train, part_b_test]\n",
    "\n",
    "    for path in path_sets:\n",
    "        for img_path in glob.glob(os.path.join(path, '*.jpg')):\n",
    "            mat = io.loadmat(\n",
    "                img_path.replace('.jpg', '.mat').replace('images', 'ground_truth').replace('IMG_', 'GT_IMG_'))\n",
    "            mask_path = img_path.replace('images', 'masks').replace('jpg', 'h5')\n",
    "            with h5py.File(mask_path) as mask_file:\n",
    "                mask = np.asarray(mask_file['mask'])\n",
    "            img = skimage.io.imread(img_path)\n",
    "            k = np.zeros((img.shape[0], img.shape[1]))\n",
    "            gt = mat[\"image_info\"][0, 0][0, 0][0]\n",
    "            gt_mask = []\n",
    "            for x, y in gt:\n",
    "                if mask[int(round(x)), int(round(y))] == 0:\n",
    "                    gt_mask.append([x, y])\n",
    "            break\n",
    "            # for i in range(0, len(gt)):\n",
    "            #     if int(gt_mask[i][1]) < img.shape[0] and int(gt_mask[i][0]) < img.shape[1]:\n",
    "            #         k[int(gt_mask[i][1]), int(gt_mask[i][0])] = 1\n",
    "            # k = gaussian_filter_density(k)\n",
    "            # for i in range(4):\n",
    "            #     pass\n",
    "            # with h5py.File(img_path.replace('.jpg', '.h5').replace('images', 'ground_truth'), 'w') as hf:\n",
    "            #     hf['density'] = k\n",
    "\n",
    "shtu_mask(\"/home/vts/dataset/CrowdCount/shtu_dataset\")"
   ]
  }
 ],
 "metadata": {
  "kernelspec": {
   "display_name": "Python 3",
   "language": "python",
   "name": "python3"
  },
  "language_info": {
   "codemirror_mode": {
    "name": "ipython",
    "version": 3
   },
   "file_extension": ".py",
   "mimetype": "text/x-python",
   "name": "python",
   "nbconvert_exporter": "python",
   "pygments_lexer": "ipython3",
   "version": "3.6.8"
  }
 },
 "nbformat": 4,
 "nbformat_minor": 2
}
